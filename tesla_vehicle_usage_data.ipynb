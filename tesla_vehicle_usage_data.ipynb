{
 "cells": [
  {
   "cell_type": "code",
   "execution_count": null,
   "metadata": {},
   "outputs": [],
   "source": [
    "import pandas as pd\n",
    "import numpy as np"
   ]
  },
  {
   "cell_type": "code",
   "execution_count": null,
   "metadata": {},
   "outputs": [],
   "source": [
    "# Load the sales data to get VINs\n",
    "sales_df = pd.read_csv('tesla_sales_data_with_vin.csv')"
   ]
  },
  {
   "cell_type": "code",
   "execution_count": null,
   "metadata": {},
   "outputs": [],
   "source": [
    "# Generate vehicle usage data\n",
    "np.random.seed(42)\n",
    "usage_data = []\n",
    "\n",
    "for _, row in sales_df.iterrows():\n",
    "    # Calculate days since purchase\n",
    "    days_since_purchase = (pd.Timestamp('2023-12-31') - pd.Timestamp(row['Date'])).days\n",
    "\n",
    "    # Generate usage data with more variation\n",
    "    usage_data.append({\n",
    "        'VIN': row['VIN'],\n",
    "        'AverageDailyMileage': np.random.gamma(shape=2, scale=30),  # More realistic distribution\n",
    "        'ChargingFrequency': np.random.gamma(shape=2, scale=1.5),  # times per week\n",
    "        'SuperchargerUsage': np.random.gamma(shape=1, scale=3),  # times per month\n",
    "        'AutopilotUsage': np.random.beta(2, 5) * 100,  # percentage of total drive time, skewed towards lower usage\n",
    "        'AnnualMileage': np.random.gamma(shape=5, scale=3000),\n",
    "        'TotalMileage': np.random.gamma(shape=5, scale=3000) * (days_since_purchase / 365)  # Total mileage based on car age\n",
    "    })\n",
    "\n",
    "usage_df = pd.DataFrame(usage_data)"
   ]
  },
  {
   "cell_type": "code",
   "execution_count": null,
   "metadata": {},
   "outputs": [],
   "source": [
    "# Round numerical columns\n",
    "usage_df['AverageDailyMileage'] = usage_df['AverageDailyMileage'].round(1)\n",
    "usage_df['ChargingFrequency'] = usage_df['ChargingFrequency'].round(1)\n",
    "usage_df['SuperchargerUsage'] = usage_df['SuperchargerUsage'].round(1)\n",
    "usage_df['AutopilotUsage'] = usage_df['AutopilotUsage'].round(1)\n",
    "usage_df['AnnualMileage'] = usage_df['AnnualMileage'].round()\n",
    "usage_df['TotalMileage'] = usage_df['TotalMileage'].round()\n",
    "\n",
    "usage_df.to_csv('tesla_vehicle_usage_data.csv', index=False)\n",
    "print(\"Vehicle usage data saved to tesla_vehicle_usage_data.csv\")"
   ]
  }
 ],
 "metadata": {
  "language_info": {
   "name": "python"
  }
 },
 "nbformat": 4,
 "nbformat_minor": 2
}
