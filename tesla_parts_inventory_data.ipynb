{
 "cells": [
  {
   "cell_type": "code",
   "execution_count": null,
   "metadata": {},
   "outputs": [],
   "source": [
    "import pandas as pd\n",
    "import numpy as np"
   ]
  },
  {
   "cell_type": "code",
   "execution_count": null,
   "metadata": {},
   "outputs": [],
   "source": [
    "# Create a list of parts with varying characteristics\n",
    "parts = [\n",
    "    {'name': 'Battery', 'base_cost': 5000, 'lead_time_mean': 20, 'demand_rate': 0.1},\n",
    "    {'name': 'Motor', 'base_cost': 2000, 'lead_time_mean': 15, 'demand_rate': 0.2},\n",
    "    {'name': 'Inverter', 'base_cost': 1000, 'lead_time_mean': 10, 'demand_rate': 0.3},\n",
    "    {'name': 'Brake Pad', 'base_cost': 200, 'lead_time_mean': 5, 'demand_rate': 1.0},\n",
    "    {'name': 'Tire', 'base_cost': 300, 'lead_time_mean': 3, 'demand_rate': 1.5},\n",
    "    {'name': 'Windshield', 'base_cost': 500, 'lead_time_mean': 7, 'demand_rate': 0.5},\n",
    "    {'name': 'Suspension', 'base_cost': 800, 'lead_time_mean': 12, 'demand_rate': 0.4},\n",
    "    {'name': 'Infotainment System', 'base_cost': 1500, 'lead_time_mean': 18, 'demand_rate': 0.2}\n",
    "]"
   ]
  },
  {
   "cell_type": "code",
   "execution_count": null,
   "metadata": {},
   "outputs": [],
   "source": [
    "\n",
    "# Generate parts and inventory data\n",
    "np.random.seed(42)\n",
    "inventory_data = []\n",
    "\n",
    "for _ in range(1000):  # Generate 1000 inventory records\n",
    "    part = np.random.choice(parts)\n",
    "    \n",
    "    # Calculate cost with some variation and inflation\n",
    "    base_cost = part['base_cost']\n",
    "    cost_variation = np.random.uniform(0.9, 1.1)  # ±10% variation\n",
    "    inflation_factor = np.random.uniform(1, 1.1)  # 0-10% inflation\n",
    "    final_cost = base_cost * cost_variation * inflation_factor\n",
    "\n",
    "    # Calculate quantity and reorder point based on demand rate\n",
    "    quantity = int(np.random.gamma(shape=2, scale=50 / part['demand_rate']))\n",
    "    reorder_point = int(np.random.gamma(shape=2, scale=20 / part['demand_rate']))\n",
    "\n",
    "    inventory_data.append({\n",
    "        'PartID': f'P{np.random.randint(1000, 9999)}',\n",
    "        'PartName': part['name'],\n",
    "        'Quantity': quantity,\n",
    "        'ReorderPoint': reorder_point,\n",
    "        'LeadTime': int(np.random.gamma(shape=2, scale=part['lead_time_mean'] / 2)),  # days\n",
    "        'Cost': round(final_cost, 2),\n",
    "        'Supplier': np.random.choice(['SupplierA', 'SupplierB', 'SupplierC', 'SupplierD']),\n",
    "        'LastOrderDate': pd.date_range(start='2023-01-01', end='2023-12-31', periods=1000)[_],\n",
    "        'ReorderFrequency': int(np.random.gamma(shape=2, scale=15 / part['demand_rate']))  # days\n",
    "    })\n",
    "\n"
   ]
  },
  {
   "cell_type": "code",
   "execution_count": null,
   "metadata": {},
   "outputs": [],
   "source": [
    "inventory_df = pd.DataFrame(inventory_data)\n",
    "inventory_df.to_csv('tesla_parts_inventory_data.csv', index=False)\n",
    "print(\"Parts and inventory data saved to tesla_parts_inventory_data.csv\")"
   ]
  }
 ],
 "metadata": {
  "language_info": {
   "name": "python"
  }
 },
 "nbformat": 4,
 "nbformat_minor": 2
}
