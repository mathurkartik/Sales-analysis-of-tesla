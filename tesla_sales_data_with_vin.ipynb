{
 "cells": [
  {
   "cell_type": "code",
   "execution_count": 7,
   "metadata": {},
   "outputs": [],
   "source": [
    "import pandas as pd\n",
    "import numpy as np\n",
    "from datetime import datetime, timedelta"
   ]
  },
  {
   "cell_type": "code",
   "execution_count": 8,
   "metadata": {},
   "outputs": [],
   "source": [
    "# Generate pseudo data for 4 years\n",
    "np.random.seed(42)\n",
    "start_date = datetime(2020, 1, 1)\n",
    "end_date = datetime(2023, 12, 31)\n",
    "date_range = pd.date_range(start=start_date, end=end_date, freq='D')\n",
    "regions = ['North Europe', 'South Europe', 'Central Europe', 'UK']\n",
    "products = ['Model S', 'Model 3', 'Model X', 'Model Y']"
   ]
  },
  {
   "cell_type": "code",
   "execution_count": 9,
   "metadata": {},
   "outputs": [],
   "source": [
    "# Base prices for each model\n",
    "base_prices = {'Model S': 80000, 'Model 3': 45000, 'Model X': 90000, 'Model Y': 55000}\n",
    "\n",
    "data = []\n",
    "vin_counter = 1\n",
    "\n",
    "for date in date_range:\n",
    "    for region in regions:\n",
    "        for product in products:\n",
    "            # Seasonal and yearly trends\n",
    "            month = date.month\n",
    "            year = date.year\n",
    "            season_factor = 1 + 0.2 * np.sin(np.pi * month / 6)  # Peak in summer and winter\n",
    "            year_factor = 1 + 0.1 * (year - 2020)  # 10% year-over-year growth\n",
    "\n",
    "            # Regional variations\n",
    "            region_factor = {'North Europe': 0.9, 'South Europe': 1.1, 'Central Europe': 1.0, 'UK': 1.05}[region]\n",
    "\n",
    "            # Product popularity\n",
    "            product_factor = {'Model S': 0.8, 'Model 3': 1.5, 'Model X': 0.7, 'Model Y': 1.2}[product]\n",
    "\n",
    "            # Calculate sales\n",
    "            base_sales = np.random.poisson(10)  # Base daily sales\n",
    "            sales = int(base_sales * season_factor * year_factor * region_factor * product_factor)\n",
    "\n",
    "            # Price calculation with inflation\n",
    "            inflation_rate = 0.02  # 2% annual inflation\n",
    "            years_since_start = (date - start_date).days / 365.25\n",
    "            inflation_factor = (1 + inflation_rate) ** years_since_start\n",
    "            price = base_prices[product] * inflation_factor\n",
    "\n",
    "            # Customer satisfaction with some variation\n",
    "            satisfaction = np.clip(np.random.normal(4.2, 0.5), 1, 5)\n",
    "\n",
    "            for _ in range(sales):\n",
    "                vin = f'VIN{vin_counter:07d}'\n",
    "                vin_counter += 1\n",
    "                data.append({\n",
    "                    'Date': date,\n",
    "                    'Region': region,\n",
    "                    'Product': product,\n",
    "                    'VIN': vin,\n",
    "                    'Price': round(price, 2),\n",
    "                    'CustomerSatisfaction': round(satisfaction, 2)\n",
    "                })\n",
    "\n",
    "df = pd.DataFrame(data)\n"
   ]
  },
  {
   "cell_type": "code",
   "execution_count": 6,
   "metadata": {},
   "outputs": [
    {
     "name": "stdout",
     "output_type": "stream",
     "text": [
      "Customer demographics data saved to tesla_customer_demographics.csv\n"
     ]
    }
   ],
   "source": [
    "# Save to CSV\n",
    "df.to_csv('tesla_sales_data_with_vin.csv', index=False)\n",
    "print(\"Updated sales data saved to tesla_sales_data_with_vin.csv\")"
   ]
  },
  {
   "cell_type": "code",
   "execution_count": null,
   "metadata": {},
   "outputs": [],
   "source": [
    "# Display some basic statistics\n",
    "print(\"\\nUpdated Sales Dataset Overview:\")\n",
    "print(f\"Date Range: {df['Date'].min()} to {df['Date'].max()}\")\n",
    "print(f\"Total Records (Individual Sales): {len(df)}\")\n",
    "print(\"\\nSummary Statistics:\")\n",
    "print(df.describe())"
   ]
  }
 ],
 "metadata": {
  "kernelspec": {
   "display_name": "Python 3",
   "language": "python",
   "name": "python3"
  },
  "language_info": {
   "codemirror_mode": {
    "name": "ipython",
    "version": 3
   },
   "file_extension": ".py",
   "mimetype": "text/x-python",
   "name": "python",
   "nbconvert_exporter": "python",
   "pygments_lexer": "ipython3",
   "version": "3.12.4"
  }
 },
 "nbformat": 4,
 "nbformat_minor": 2
}
