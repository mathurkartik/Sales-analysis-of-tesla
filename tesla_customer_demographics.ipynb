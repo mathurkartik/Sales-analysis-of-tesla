{
 "cells": [
  {
   "cell_type": "code",
   "execution_count": null,
   "metadata": {},
   "outputs": [],
   "source": [
    "import pandas as pd\n",
    "import numpy as np"
   ]
  },
  {
   "cell_type": "code",
   "execution_count": null,
   "metadata": {},
   "outputs": [],
   "source": [
    "# Load the sales data to get customer IDs\n",
    "sales_df = pd.read_csv('tesla_sales_data_with_vin.csv')"
   ]
  },
  {
   "cell_type": "code",
   "execution_count": null,
   "metadata": {},
   "outputs": [],
   "source": [
    "# Create unique customer IDs\n",
    "customer_ids = sales_df['VIN'].unique()"
   ]
  },
  {
   "cell_type": "code",
   "execution_count": null,
   "metadata": {},
   "outputs": [],
   "source": [
    "# Generate customer demographics\n",
    "np.random.seed(42)\n",
    "customer_data = []\n",
    "\n",
    "for cust_id in customer_ids:\n",
    "    age = np.random.gamma(shape=6, scale=6) + 25  # Age distribution skewed towards younger adults\n",
    "    income = np.random.gamma(shape=3, scale=30000) + 50000  # Income distribution with long tail\n",
    "    \n",
    "    occupation_probs = [0.3, 0.25, 0.2, 0.15, 0.1]  # Probabilities for each occupation\n",
    "    occupation = np.random.choice(\n",
    "        ['Professional', 'Manager', 'Entrepreneur', 'Engineer', 'Other'],\n",
    "        p=occupation_probs\n",
    "    )\n",
    "    \n",
    "    family_size_probs = [0.2, 0.3, 0.25, 0.15, 0.1]  # Probabilities for each family size\n",
    "    family_size = np.random.choice([1, 2, 3, 4, 5], p=family_size_probs)\n",
    "    \n",
    "    # Ensure prev_ev_owner_prob is between 0 and 1\n",
    "    prev_ev_owner_prob = np.clip(0.3 + (age - 25) * 0.005, 0, 1)  # Probability increases with age, but capped at 1\n",
    "    prev_ev_owner = np.random.choice([True, False], p=[prev_ev_owner_prob, 1 - prev_ev_owner_prob])\n",
    "    \n",
    "    env_concern = np.random.beta(5, 2) * 10  # Environmental concern skewed towards higher values\n",
    "    \n",
    "    customer_data.append({\n",
    "        'CustomerID': cust_id,\n",
    "        'Age': int(age),\n",
    "        'Income': int(income),\n",
    "        'Occupation': occupation,\n",
    "        'FamilySize': family_size,\n",
    "        'PreviousEVOwner': prev_ev_owner,\n",
    "        'EnvironmentalConcern': round(env_concern, 2)\n",
    "    })"
   ]
  },
  {
   "cell_type": "code",
   "execution_count": null,
   "metadata": {},
   "outputs": [],
   "source": [
    "customer_df = pd.DataFrame(customer_data)\n",
    "customer_df.to_csv('tesla_customer_demographics.csv', index=False)\n",
    "print(\"Customer demographics data saved to tesla_customer_demographics.csv\")"
   ]
  }
 ],
 "metadata": {
  "language_info": {
   "name": "python"
  }
 },
 "nbformat": 4,
 "nbformat_minor": 2
}
